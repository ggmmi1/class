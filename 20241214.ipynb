{
  "nbformat": 4,
  "nbformat_minor": 0,
  "metadata": {
    "colab": {
      "provenance": [],
      "authorship_tag": "ABX9TyM5+1VHSAHXYHmIDZVOGMo2",
      "include_colab_link": true
    },
    "kernelspec": {
      "name": "python3",
      "display_name": "Python 3"
    },
    "language_info": {
      "name": "python"
    }
  },
  "cells": [
    {
      "cell_type": "markdown",
      "metadata": {
        "id": "view-in-github",
        "colab_type": "text"
      },
      "source": [
        "<a href=\"https://colab.research.google.com/github/ggmmi1/class/blob/main/20241214.ipynb\" target=\"_parent\"><img src=\"https://colab.research.google.com/assets/colab-badge.svg\" alt=\"Open In Colab\"/></a>"
      ]
    },
    {
      "cell_type": "code",
      "execution_count": 16,
      "metadata": {
        "colab": {
          "base_uri": "https://localhost:8080/"
        },
        "id": "ogE2iBifdo0H",
        "outputId": "0c124e80-1a5a-4dc4-d2e8-34c573503652"
      },
      "outputs": [
        {
          "output_type": "stream",
          "name": "stdout",
          "text": [
            "[0. 0. 0. 0. 0. 0. 0. 0. 0. 0.]\n",
            "[0. 0. 0. 0. 1. 0. 0. 0. 0. 0.]\n",
            "[10 11 12 13 14 15 16 17 18 19 20 21 22 23 24 25 26 27 28 29 30]\n",
            "[[81 83]\n",
            " [92 69]]\n",
            "[[0.81738693 0.36034733 0.39895207 0.87498713]\n",
            " [0.72187485 0.50343834 0.84587069 0.67425693]]\n"
          ]
        }
      ],
      "source": [
        "#실습 Numpy 모듈 사용해보기 1-1\n",
        "#1 10개의 0으로 채워진 array를 만들고 출력해주세요\n",
        "#2 1먼에서 만들어진 array에서 5번째 값을 1로 바꾸고 출력해주세요\n",
        "#3 10부터 30까지의 수로 이루어진 array를 만들고 출력해주세요\n",
        "#4 0부터 99까지의 난수로 이루어진 2x2 array를 만들고 출력해주세요\n",
        "#5 0부터 1 사이의 난수로 이루어진 2x4 array를 만들고 출력해주새요\n",
        "import numpy as np\n",
        "a = np.zeros(10) #1\n",
        "print(a)\n",
        "#2\n",
        "a[4] = 1\n",
        "print(a)\n",
        "#3\n",
        "b = np.arange(10,31)\n",
        "print(b)\n",
        "#4\n",
        "c = np.random.randint(0, 100, (2, 2)) #integers 대신 사용해도 됨 , rng = np.random.default_rng(n) n값이 있어야 랜덤 숫자 고정!, 없으면 계쏙 랜덤으로 나옴\n",
        "print(c)\n",
        "#5\n",
        "d = np.random.rand(2, 4)\n",
        "print(d)\n"
      ]
    },
    {
      "cell_type": "code",
      "source": [
        "#실습 Numpy 모듈 사용해보기 1-2\n",
        "#6 35부터 74까지의 순차적인 수로 이루어진 1차원 배열을 만들고 10x44 행렬로 변환 후 출력해주세요.\n",
        "#7 6번에서 만든 배열을 맨 끝의 행부터 역순으로 출력해주세요\n",
        "#8 6번에서 만든 배열 중 두 번째 행부터 마지막 직전 행까지, 세번째 열부터 마지막 열까지 슬라이싱해서 출력해주세요\n",
        "#9 6번에서 만든 배열에서 마지막 열에 해당하는 모든 값을 출력해주세요(1차원 배열로)\n",
        "#10 9-1번에서 만든 배열을 역순으로 정렬해서 출력해주세요\n",
        "#11 1부터 50까지의 난수로 된 5x6 배열을 만들고, 배열에서 짝수만 선택하여 출력하는 코드를 작성하세요\n",
        "\n",
        "import numpy as np\n",
        "e = np.arange(35, 75) #6\n",
        "f = e.reshape(10, 4)\n",
        "print(f)\n",
        "#7\n",
        "for row in f[::-1]:\n",
        "    print(row)\n",
        "#8\n",
        "g = f[1:-1, 2:]\n",
        "print(g)\n",
        "\n",
        "#9\n",
        "last = f[:, -1]\n",
        "print(last)\n",
        "\n",
        "#9-1\n",
        "print(last.reshape(-1, 1))  #다른 방법 lsat_1 = f[:, -1], print(last_1)\n",
        "\n",
        "#10\n",
        "print(last[::-1].reshape(-1, 1)) #다른 방법 an10 = f [::-1, -1:]\n",
        "\n",
        "#11\n",
        "h = np.random.randint(1, 51,(5, 6)) #다른 방법 ndarr = rng.integers(1, 51, size=(5,6))\n",
        "print(h)                            #print(ndarr)\n",
        "i = h[h % 2 == 0]                   #print(ndarr[ndarr%2 == 0])\n",
        "print(\"짝수만 출력\", i)\n"
      ],
      "metadata": {
        "colab": {
          "base_uri": "https://localhost:8080/"
        },
        "id": "1NJWe9u0oonT",
        "outputId": "7091a606-7244-48bc-9426-d7968e1f9b51"
      },
      "execution_count": 53,
      "outputs": [
        {
          "output_type": "stream",
          "name": "stdout",
          "text": [
            "[[35 36 37 38]\n",
            " [39 40 41 42]\n",
            " [43 44 45 46]\n",
            " [47 48 49 50]\n",
            " [51 52 53 54]\n",
            " [55 56 57 58]\n",
            " [59 60 61 62]\n",
            " [63 64 65 66]\n",
            " [67 68 69 70]\n",
            " [71 72 73 74]]\n",
            "[71 72 73 74]\n",
            "[67 68 69 70]\n",
            "[63 64 65 66]\n",
            "[59 60 61 62]\n",
            "[55 56 57 58]\n",
            "[51 52 53 54]\n",
            "[47 48 49 50]\n",
            "[43 44 45 46]\n",
            "[39 40 41 42]\n",
            "[35 36 37 38]\n",
            "[[41 42]\n",
            " [45 46]\n",
            " [49 50]\n",
            " [53 54]\n",
            " [57 58]\n",
            " [61 62]\n",
            " [65 66]\n",
            " [69 70]]\n",
            "[38 42 46 50 54 58 62 66 70 74]\n",
            "[[38]\n",
            " [42]\n",
            " [46]\n",
            " [50]\n",
            " [54]\n",
            " [58]\n",
            " [62]\n",
            " [66]\n",
            " [70]\n",
            " [74]]\n",
            "[[74]\n",
            " [70]\n",
            " [66]\n",
            " [62]\n",
            " [58]\n",
            " [54]\n",
            " [50]\n",
            " [46]\n",
            " [42]\n",
            " [38]]\n",
            "[[23  3 16 16 46 44]\n",
            " [21 36 48 27 20 12]\n",
            " [13 29  1 29 24 12]\n",
            " [28 43 22 15 12  6]\n",
            " [16 19 15 15 39 31]]\n",
            "짝수만 출력 [16 16 46 44 36 48 20 12 24 12 28 22 12  6 16]\n"
          ]
        }
      ]
    },
    {
      "cell_type": "code",
      "source": [
        "#차원 확장\n",
        "import numpy as np\n",
        "a = np.array([[1,2],[3,4]])\n",
        "\n",
        "expanded = np.expand_dims(a, 2)\n",
        "print(expanded)\n",
        "print(expanded.shape)\n"
      ],
      "metadata": {
        "colab": {
          "base_uri": "https://localhost:8080/"
        },
        "id": "CMIFRgpkBW5B",
        "outputId": "97c656ef-19b5-4291-9312-2806a6beba70"
      },
      "execution_count": 55,
      "outputs": [
        {
          "output_type": "stream",
          "name": "stdout",
          "text": [
            "[[[1]\n",
            "  [2]]\n",
            "\n",
            " [[3]\n",
            "  [4]]]\n",
            "(2, 2, 1)\n"
          ]
        }
      ]
    },
    {
      "cell_type": "code",
      "source": [
        "expanded = np.expand_dims(a, 1)\n",
        "print(expanded)\n",
        "print(expanded.shape)"
      ],
      "metadata": {
        "colab": {
          "base_uri": "https://localhost:8080/"
        },
        "id": "gEev25LNCm4n",
        "outputId": "15d7965c-79b5-4dd7-b99b-c4ca5724d3e7"
      },
      "execution_count": 57,
      "outputs": [
        {
          "output_type": "stream",
          "name": "stdout",
          "text": [
            "[[[1 2]]\n",
            "\n",
            " [[3 4]]]\n",
            "(2, 1, 2)\n"
          ]
        }
      ]
    },
    {
      "cell_type": "code",
      "source": [
        "#차원 축소\n",
        "np_ones = np.ones((1,2,1,3))\n",
        "print(np_ones)\n",
        "\n",
        "squeezed = np.squeeze(np_ones, 0)\n",
        "print(squeezed)\n",
        "print(squeezed.shape)"
      ],
      "metadata": {
        "colab": {
          "base_uri": "https://localhost:8080/"
        },
        "id": "cckFo8TiDAF6",
        "outputId": "429b367c-eb9d-4cee-9f25-a507c27eab78"
      },
      "execution_count": 60,
      "outputs": [
        {
          "output_type": "stream",
          "name": "stdout",
          "text": [
            "[[[[1. 1. 1.]]\n",
            "\n",
            "  [[1. 1. 1.]]]]\n",
            "[[[1. 1. 1.]]\n",
            "\n",
            " [[1. 1. 1.]]]\n",
            "(2, 1, 3)\n"
          ]
        }
      ]
    },
    {
      "cell_type": "code",
      "source": [
        "a = [1,2,2,3,3,3,4,4]\n",
        "u_a, indexs, counts = np.unique(a, return_index = True, return_counts = True)\n",
        "print(u_a)\n",
        "print(indexs)\n",
        "print(counts)\n"
      ],
      "metadata": {
        "colab": {
          "base_uri": "https://localhost:8080/"
        },
        "id": "c89V940pDmXJ",
        "outputId": "dba24e25-bffe-413b-91d2-1d752f06cc15"
      },
      "execution_count": 73,
      "outputs": [
        {
          "output_type": "stream",
          "name": "stdout",
          "text": [
            "[1 2 3 4]\n",
            "[0 1 3 6]\n",
            "[1 2 3 2]\n"
          ]
        }
      ]
    },
    {
      "cell_type": "code",
      "source": [
        "def add (a=1, b=1):\n",
        "  return a,b,a+b\n",
        "a,b,sum = add(2,3)\n",
        "print(a, b, sum)"
      ],
      "metadata": {
        "colab": {
          "base_uri": "https://localhost:8080/"
        },
        "id": "H9McOyWFLy43",
        "outputId": "c87e422b-d389-404e-a486-ea75cae95179"
      },
      "execution_count": 74,
      "outputs": [
        {
          "output_type": "stream",
          "name": "stdout",
          "text": [
            "2 3 5\n"
          ]
        }
      ]
    },
    {
      "cell_type": "code",
      "source": [
        "def add (a=1, b=1):\n",
        "  return a,b,a+b\n",
        "sum, a, b = add(2,3)\n",
        "print(a, b, sum)"
      ],
      "metadata": {
        "colab": {
          "base_uri": "https://localhost:8080/"
        },
        "id": "mEwflaCyL0rA",
        "outputId": "9fab0c28-39af-4683-cbaf-b44577684168"
      },
      "execution_count": 75,
      "outputs": [
        {
          "output_type": "stream",
          "name": "stdout",
          "text": [
            "3 5 2\n"
          ]
        }
      ]
    },
    {
      "cell_type": "code",
      "source": [
        "#정렬\n",
        "a = np.array([1,4,2,3])\n",
        "b = np.sort(a)\n",
        "print(f\"a {a}\")\n",
        "print(f\"b {b}\")\n",
        "c = np.argsort(a) #중요 인덱스 반환\n",
        "print(f\"c {c}\")\n",
        "print(f\"cc {a[c]}\")\n",
        "a.sort()\n",
        "print(f\"a{a}\")"
      ],
      "metadata": {
        "colab": {
          "base_uri": "https://localhost:8080/"
        },
        "id": "rGNZPP8ZL362",
        "outputId": "bf136818-d094-4d92-df1a-ff541f690b82"
      },
      "execution_count": 77,
      "outputs": [
        {
          "output_type": "stream",
          "name": "stdout",
          "text": [
            "a [1 4 2 3]\n",
            "b [1 2 3 4]\n",
            "c [0 2 3 1]\n",
            "cc [1 2 3 4]\n",
            "a[1 2 3 4]\n"
          ]
        }
      ]
    },
    {
      "cell_type": "code",
      "source": [
        "#그 밖 함수\n",
        "#np.mean 평균값\n",
        "a = np.array([1,4,2,3])\n",
        "np.mean(a)"
      ],
      "metadata": {
        "colab": {
          "base_uri": "https://localhost:8080/"
        },
        "id": "P1aQuE-qOE0n",
        "outputId": "f8728a89-d0d1-454b-a039-d822c26c8163"
      },
      "execution_count": 82,
      "outputs": [
        {
          "output_type": "execute_result",
          "data": {
            "text/plain": [
              "2.5"
            ]
          },
          "metadata": {},
          "execution_count": 82
        }
      ]
    },
    {
      "cell_type": "code",
      "source": [
        "np.std(a) #표준편차"
      ],
      "metadata": {
        "colab": {
          "base_uri": "https://localhost:8080/"
        },
        "id": "YVEWOfcqOiIq",
        "outputId": "b800da53-55c3-4e43-9e47-b2d18ed899c4"
      },
      "execution_count": 83,
      "outputs": [
        {
          "output_type": "execute_result",
          "data": {
            "text/plain": [
              "1.118033988749895"
            ]
          },
          "metadata": {},
          "execution_count": 83
        }
      ]
    },
    {
      "cell_type": "code",
      "source": [
        "np.var(a) #분산"
      ],
      "metadata": {
        "colab": {
          "base_uri": "https://localhost:8080/"
        },
        "id": "l7arOSmjOk8s",
        "outputId": "fe0067cb-67dc-4d70-eb8b-9f14c0f5e773"
      },
      "execution_count": 86,
      "outputs": [
        {
          "output_type": "execute_result",
          "data": {
            "text/plain": [
              "1.25"
            ]
          },
          "metadata": {},
          "execution_count": 86
        }
      ]
    },
    {
      "cell_type": "code",
      "source": [
        "np.max(a) #최댓값"
      ],
      "metadata": {
        "colab": {
          "base_uri": "https://localhost:8080/"
        },
        "id": "BVhbM9zKOoMZ",
        "outputId": "0c8acdc2-ed81-4e74-f038-4d1647529fe9"
      },
      "execution_count": 87,
      "outputs": [
        {
          "output_type": "execute_result",
          "data": {
            "text/plain": [
              "4"
            ]
          },
          "metadata": {},
          "execution_count": 87
        }
      ]
    },
    {
      "cell_type": "code",
      "source": [
        "np.min(a) #최솟값"
      ],
      "metadata": {
        "colab": {
          "base_uri": "https://localhost:8080/"
        },
        "id": "Y4QY1PGiOzmb",
        "outputId": "294480af-2dce-40ac-8575-3fb09038e612"
      },
      "execution_count": 89,
      "outputs": [
        {
          "output_type": "execute_result",
          "data": {
            "text/plain": [
              "1"
            ]
          },
          "metadata": {},
          "execution_count": 89
        }
      ]
    },
    {
      "cell_type": "code",
      "source": [
        "np.sum(a) #합"
      ],
      "metadata": {
        "colab": {
          "base_uri": "https://localhost:8080/"
        },
        "id": "Y7qrOojPO2lH",
        "outputId": "e87bbf68-3d70-4205-a8b7-8aef4c483551"
      },
      "execution_count": 90,
      "outputs": [
        {
          "output_type": "execute_result",
          "data": {
            "text/plain": [
              "10"
            ]
          },
          "metadata": {},
          "execution_count": 90
        }
      ]
    },
    {
      "cell_type": "code",
      "source": [
        "np.prod(a) #곱"
      ],
      "metadata": {
        "colab": {
          "base_uri": "https://localhost:8080/"
        },
        "id": "yB9P9PUiO46V",
        "outputId": "87bac34c-ddf1-4ab7-f077-69f1d4b3987e"
      },
      "execution_count": 92,
      "outputs": [
        {
          "output_type": "execute_result",
          "data": {
            "text/plain": [
              "24"
            ]
          },
          "metadata": {},
          "execution_count": 92
        }
      ]
    },
    {
      "cell_type": "code",
      "source": [
        "np.median(a) #중앙값"
      ],
      "metadata": {
        "colab": {
          "base_uri": "https://localhost:8080/"
        },
        "id": "hSOxYrEIO8IP",
        "outputId": "83fdf3de-b569-4876-83ba-6a1d01af5e23"
      },
      "execution_count": 94,
      "outputs": [
        {
          "output_type": "execute_result",
          "data": {
            "text/plain": [
              "2.5"
            ]
          },
          "metadata": {},
          "execution_count": 94
        }
      ]
    },
    {
      "cell_type": "code",
      "source": [
        "# (axis=1) axis=1 열을 나타냄 ,  axis=0 행을 나타냄  만약 max이용 했으면 각자 열, 행마다 큰 값이 나옴\n",
        "import numpy as np\n",
        "\n",
        "x = np.arange(15, dtype=np.int64).reshape(3, 5)\n",
        "x[1:, ::2] = -99\n",
        "print(x)"
      ],
      "metadata": {
        "colab": {
          "base_uri": "https://localhost:8080/"
        },
        "id": "sHvxgzBnPP6B",
        "outputId": "93c3bc5c-cb6f-41d9-827b-b154adce4bff"
      },
      "execution_count": 103,
      "outputs": [
        {
          "output_type": "stream",
          "name": "stdout",
          "text": [
            "[[  0   1   2   3   4]\n",
            " [-99   6 -99   8 -99]\n",
            " [-99  11 -99  13 -99]]\n"
          ]
        }
      ]
    },
    {
      "cell_type": "code",
      "source": [
        "a = np.sort(x, axis=0)\n",
        "print(a)"
      ],
      "metadata": {
        "colab": {
          "base_uri": "https://localhost:8080/"
        },
        "id": "8ptjaOTfQ_1Y",
        "outputId": "89e0a4ab-d722-41fa-cd69-6d5655e4eb7f"
      },
      "execution_count": 105,
      "outputs": [
        {
          "output_type": "stream",
          "name": "stdout",
          "text": [
            "[[-99   1 -99   3 -99]\n",
            " [-99   6 -99   8 -99]\n",
            " [  0  11   2  13   4]]\n"
          ]
        }
      ]
    },
    {
      "cell_type": "code",
      "source": [
        "a = np.sort(x, axis=1)\n",
        "print(a)"
      ],
      "metadata": {
        "colab": {
          "base_uri": "https://localhost:8080/"
        },
        "id": "LF4NIb4HRR4m",
        "outputId": "3c721f21-5329-4554-a9ad-9640e3915ac0"
      },
      "execution_count": 107,
      "outputs": [
        {
          "output_type": "stream",
          "name": "stdout",
          "text": [
            "[[  0   1   2   3   4]\n",
            " [-99 -99 -99   6   8]\n",
            " [-99 -99 -99  11  13]]\n"
          ]
        }
      ]
    },
    {
      "cell_type": "code",
      "source": [
        "#실습 Numpy 모듈 사용해보기 2\n",
        "# [1,1,2,3,4,5,5,5,5,7,8,9,10,11,24,100]\n",
        "#1 중복을 제거한 배열 출력\n",
        "#2 1의 결과의 최대,최소,평균값 출력\n",
        "#3 1의 결과의 모든 합 출력\n",
        "#4 중복을 제거하지 않은 배열의 중간값 출력\n",
        "\n",
        "a = [1,1,2,3,4,5,5,5,5,7,8,9,10,11,24,100]\n",
        "u_a = np.unique(a) #1\n",
        "print(u_a)\n",
        "\n",
        "#2\n",
        "np.max(a)\n",
        "np.min(a)"
      ],
      "metadata": {
        "colab": {
          "base_uri": "https://localhost:8080/"
        },
        "id": "kXRvv0nOVF24",
        "outputId": "5f39bbfd-481a-4a1d-caa6-3b536df43858"
      },
      "execution_count": 112,
      "outputs": [
        {
          "output_type": "stream",
          "name": "stdout",
          "text": [
            "[  1   2   3   4   5   7   8   9  10  11  24 100]\n"
          ]
        },
        {
          "output_type": "execute_result",
          "data": {
            "text/plain": [
              "1"
            ]
          },
          "metadata": {},
          "execution_count": 112
        }
      ]
    },
    {
      "cell_type": "code",
      "source": [
        "np.mean(a)"
      ],
      "metadata": {
        "colab": {
          "base_uri": "https://localhost:8080/"
        },
        "id": "Sh7kgVdBWbMj",
        "outputId": "53c1defe-70a9-4d2c-ea19-9b28c4873abd"
      },
      "execution_count": 114,
      "outputs": [
        {
          "output_type": "execute_result",
          "data": {
            "text/plain": [
              "12.5"
            ]
          },
          "metadata": {},
          "execution_count": 114
        }
      ]
    },
    {
      "cell_type": "code",
      "source": [
        "#3\n",
        "np.sum(a)"
      ],
      "metadata": {
        "colab": {
          "base_uri": "https://localhost:8080/"
        },
        "id": "TXAZhIrhWg2j",
        "outputId": "fc2cdcc4-12f9-416b-85f8-e24c0200c78a"
      },
      "execution_count": 116,
      "outputs": [
        {
          "output_type": "execute_result",
          "data": {
            "text/plain": [
              "200"
            ]
          },
          "metadata": {},
          "execution_count": 116
        }
      ]
    },
    {
      "cell_type": "code",
      "source": [
        "#4\n",
        "np.median(a)"
      ],
      "metadata": {
        "colab": {
          "base_uri": "https://localhost:8080/"
        },
        "id": "z25uph3_Wtka",
        "outputId": "9ec4bbd3-f169-47b6-a5f7-df024a164da0"
      },
      "execution_count": 118,
      "outputs": [
        {
          "output_type": "execute_result",
          "data": {
            "text/plain": [
              "5.0"
            ]
          },
          "metadata": {},
          "execution_count": 118
        }
      ]
    },
    {
      "cell_type": "code",
      "source": [
        "#실습 Numpy 모듈 사용해보기 3\n",
        "# x = np.arange(15, dtype=np.int64.reshape(3,5))\n",
        "# x[1:, ::2] = -99\n",
        "#1 1열의 최대, 최소, 평균값 출력\n",
        "#2 2행의 모든 합 출력\n",
        "#3 실습 2번 1차원 배열을 argsort 이용하여 내림차순 정렬\n",
        "\n",
        "import numpy as np\n",
        "\n",
        "x = np.arange(15, dtype=np.int64).reshape(3, 5)\n",
        "x[1:, ::2] = -99\n",
        "print(x)\n",
        "#1\n",
        "print(np.max(x[:,0]))\n",
        "print(np.min(x[:,0]))\n",
        "print(np.mean(x[:,0]))\n",
        "#2\n",
        "print(np.sum(x[1]))\n",
        "#3\n",
        "a = np.array([1,1,2,3,4,5,5,5,5,7,8,9,10,11,24,100])\n",
        "b = np.argsort(a)\n",
        "print(a[b[::-1]])"
      ],
      "metadata": {
        "colab": {
          "base_uri": "https://localhost:8080/"
        },
        "id": "RI-vqzmbXX1n",
        "outputId": "07f3b959-6e4a-4749-cdb2-6cce23e844e6"
      },
      "execution_count": 159,
      "outputs": [
        {
          "output_type": "stream",
          "name": "stdout",
          "text": [
            "[[  0   1   2   3   4]\n",
            " [-99   6 -99   8 -99]\n",
            " [-99  11 -99  13 -99]]\n",
            "0\n",
            "-99\n",
            "-66.0\n",
            "-283\n",
            "[100  24  11  10   9   8   7   5   5   5   5   4   3   2   1   1]\n"
          ]
        }
      ]
    },
    {
      "cell_type": "code",
      "source": [],
      "metadata": {
        "id": "XJ8RuRxaZxGh"
      },
      "execution_count": null,
      "outputs": []
    }
  ]
}