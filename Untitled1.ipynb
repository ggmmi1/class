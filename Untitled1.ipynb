{
  "nbformat": 4,
  "nbformat_minor": 0,
  "metadata": {
    "colab": {
      "provenance": [],
      "authorship_tag": "ABX9TyNt2LjTsUJdKCqpVvDiNGlC",
      "include_colab_link": true
    },
    "kernelspec": {
      "name": "python3",
      "display_name": "Python 3"
    },
    "language_info": {
      "name": "python"
    }
  },
  "cells": [
    {
      "cell_type": "markdown",
      "metadata": {
        "id": "view-in-github",
        "colab_type": "text"
      },
      "source": [
        "<a href=\"https://colab.research.google.com/github/ggmmi1/class/blob/main/Untitled1.ipynb\" target=\"_parent\"><img src=\"https://colab.research.google.com/assets/colab-badge.svg\" alt=\"Open In Colab\"/></a>"
      ]
    },
    {
      "cell_type": "code",
      "execution_count": null,
      "metadata": {
        "colab": {
          "base_uri": "https://localhost:8080/"
        },
        "id": "6AHQTA5oLGk-",
        "outputId": "e2b2a380-eaee-41b7-eec2-9e2e6ce89447"
      },
      "outputs": [
        {
          "output_type": "stream",
          "name": "stdout",
          "text": [
            "2\n",
            "(3, 2)\n",
            "3\n",
            "(3, 2, 1)\n",
            "3\n",
            "(3, 2, 2)\n",
            "4\n",
            "(3, 2, 2, 1)\n"
          ]
        }
      ],
      "source": [
        "import numpy as np\n",
        "a = np.array([[1,2],[3,4],[5,6]])\n",
        "\n",
        "print(a.ndim)\n",
        "print(a.shape)\n",
        "\n",
        "a = np.array([[[1],[2]],[[3],[4]],[[5],[6]]])\n",
        "\n",
        "print(a.ndim)\n",
        "print(a.shape)\n",
        "\n",
        "a = np.array([[[1,2],[2,2]],[[3,2],[4,2]],[[5,2],[6,2]]])\n",
        "\n",
        "print(a.ndim)\n",
        "print(a.shape) #큰상자 3개 안에, 작은상자 2개 있고, 그 안에 원소 2개가 있으니까 (3,2,2)\n",
        "\n",
        "a = np.array([[[[1],[2]],[[2],[2]]],[[[3],[2]],[[4],[2]]],[[[5],[2]],[[6],[2]]]])\n",
        "\n",
        "print(a.ndim)\n",
        "print(a.shape)"
      ]
    },
    {
      "cell_type": "code",
      "source": [
        "np.dot(4,2)\n",
        "\n",
        "ndar1 = np.array([3,2])\n",
        "ndar2 = np.array([4,6])\n",
        "np.dot(ndar1, ndar2)"
      ],
      "metadata": {
        "id": "eyzNeTYwMgPb",
        "colab": {
          "base_uri": "https://localhost:8080/"
        },
        "outputId": "afa0d3a1-5007-4574-c13e-eafa62a22c69"
      },
      "execution_count": 9,
      "outputs": [
        {
          "output_type": "execute_result",
          "data": {
            "text/plain": [
              "24"
            ]
          },
          "metadata": {},
          "execution_count": 9
        }
      ]
    },
    {
      "cell_type": "code",
      "source": [
        "ndar1 = np.array([[1,2],[3,4]])\n",
        "ndar2 = np.array([[1,2],[3,4]])\n",
        "np.dot(ndar1, ndar2)"
      ],
      "metadata": {
        "colab": {
          "base_uri": "https://localhost:8080/"
        },
        "id": "vUxBmprVODNu",
        "outputId": "4ba4d046-9600-4ee5-b1d4-fbfc413e799c"
      },
      "execution_count": 11,
      "outputs": [
        {
          "output_type": "execute_result",
          "data": {
            "text/plain": [
              "array([[ 7, 10],\n",
              "       [15, 22]])"
            ]
          },
          "metadata": {},
          "execution_count": 11
        }
      ]
    },
    {
      "cell_type": "code",
      "source": [],
      "metadata": {
        "id": "LdEL9KaqPnZ8"
      },
      "execution_count": null,
      "outputs": []
    }
  ]
}