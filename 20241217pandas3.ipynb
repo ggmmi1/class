{
  "metadata": {
    "kernelspec": {
      "display_name": "Python 3",
      "language": "python",
      "name": "python3"
    },
    "language_info": {
      "name": "python",
      "version": "3.10.14",
      "mimetype": "text/x-python",
      "codemirror_mode": {
        "name": "ipython",
        "version": 3
      },
      "pygments_lexer": "ipython3",
      "nbconvert_exporter": "python",
      "file_extension": ".py"
    },
    "kaggle": {
      "accelerator": "none",
      "dataSources": [
        {
          "sourceId": 1252,
          "sourceType": "datasetVersion",
          "datasetId": 655
        },
        {
          "sourceId": 3919,
          "sourceType": "datasetVersion",
          "datasetId": 2321
        },
        {
          "sourceId": 4877,
          "sourceType": "datasetVersion",
          "datasetId": 2894
        },
        {
          "sourceId": 5624,
          "sourceType": "datasetVersion",
          "datasetId": 3491
        },
        {
          "sourceId": 8172,
          "sourceType": "datasetVersion",
          "datasetId": 1442
        },
        {
          "sourceId": 13206,
          "sourceType": "datasetVersion",
          "datasetId": 9366
        },
        {
          "sourceId": 403916,
          "sourceType": "datasetVersion",
          "datasetId": 179555
        },
        {
          "sourceId": 466349,
          "sourceType": "datasetVersion",
          "datasetId": 4549
        },
        {
          "sourceId": 1151655,
          "sourceType": "datasetVersion",
          "datasetId": 2478
        },
        {
          "sourceId": 5438389,
          "sourceType": "datasetVersion",
          "datasetId": 10128
        }
      ],
      "isInternetEnabled": false,
      "language": "python",
      "sourceType": "notebook",
      "isGpuEnabled": false
    },
    "colab": {
      "name": "Exercise: Data Types and Missing Values",
      "provenance": [],
      "include_colab_link": true
    }
  },
  "nbformat_minor": 0,
  "nbformat": 4,
  "cells": [
    {
      "cell_type": "markdown",
      "metadata": {
        "id": "view-in-github",
        "colab_type": "text"
      },
      "source": [
        "<a href=\"https://colab.research.google.com/github/ggmmi1/class/blob/main/20241217pandas3.ipynb\" target=\"_parent\"><img src=\"https://colab.research.google.com/assets/colab-badge.svg\" alt=\"Open In Colab\"/></a>"
      ]
    },
    {
      "source": [
        "# IMPORTANT: RUN THIS CELL IN ORDER TO IMPORT YOUR KAGGLE DATA SOURCES,\n",
        "# THEN FEEL FREE TO DELETE THIS CELL.\n",
        "# NOTE: THIS NOTEBOOK ENVIRONMENT DIFFERS FROM KAGGLE'S PYTHON\n",
        "# ENVIRONMENT SO THERE MAY BE MISSING LIBRARIES USED BY YOUR\n",
        "# NOTEBOOK.\n",
        "import kagglehub\n",
        "nolanbconaway_pitchfork_data_path = kagglehub.dataset_download('nolanbconaway/pitchfork-data')\n",
        "datasnaek_chess_path = kagglehub.dataset_download('datasnaek/chess')\n",
        "organizations_nasa_kepler_exoplanet_search_results_path = kagglehub.dataset_download('organizations/nasa/kepler-exoplanet-search-results')\n",
        "residentmario_things_on_reddit_path = kagglehub.dataset_download('residentmario/things-on-reddit')\n",
        "zynicide_wine_reviews_path = kagglehub.dataset_download('zynicide/wine-reviews')\n",
        "residentmario_ramen_ratings_path = kagglehub.dataset_download('residentmario/ramen-ratings')\n",
        "dansbecker_powerlifting_database_path = kagglehub.dataset_download('dansbecker/powerlifting-database')\n",
        "datasnaek_youtube_new_path = kagglehub.dataset_download('datasnaek/youtube-new')\n",
        "rtatman_188_million_us_wildfires_path = kagglehub.dataset_download('rtatman/188-million-us-wildfires')\n",
        "jpmiller_publicassistance_path = kagglehub.dataset_download('jpmiller/publicassistance')\n",
        "\n",
        "print('Data source import complete.')\n"
      ],
      "metadata": {
        "id": "GTBU1ygL82F2"
      },
      "cell_type": "code",
      "outputs": [],
      "execution_count": null
    },
    {
      "cell_type": "markdown",
      "source": [
        "**This notebook is an exercise in the [Pandas](https://www.kaggle.com/learn/pandas) course.  You can reference the tutorial at [this link](https://www.kaggle.com/residentmario/data-types-and-missing-values).**\n",
        "\n",
        "---\n"
      ],
      "metadata": {
        "id": "HFarzhOV82F7"
      }
    },
    {
      "cell_type": "markdown",
      "source": [
        "# Introduction\n",
        "\n",
        "Run the following cell to load your data and some utility functions."
      ],
      "metadata": {
        "id": "6U6aGUrm82F9"
      }
    },
    {
      "cell_type": "code",
      "source": [
        "import pandas as pd\n",
        "\n",
        "reviews = pd.read_csv(\"../input/wine-reviews/winemag-data-130k-v2.csv\", index_col=0)\n",
        "\n",
        "from learntools.core import binder; binder.bind(globals())\n",
        "from learntools.pandas.data_types_and_missing_data import *\n",
        "print(\"Setup complete.\")"
      ],
      "metadata": {
        "trusted": true,
        "execution": {
          "iopub.status.busy": "2024-12-17T04:37:15.210748Z",
          "iopub.execute_input": "2024-12-17T04:37:15.21115Z",
          "iopub.status.idle": "2024-12-17T04:37:19.627667Z",
          "shell.execute_reply.started": "2024-12-17T04:37:15.211112Z",
          "shell.execute_reply": "2024-12-17T04:37:19.62653Z"
        },
        "id": "785DC7VI82F-",
        "outputId": "6c311da1-32c4-4542-f0dc-23cab6c3d96e"
      },
      "outputs": [
        {
          "name": "stdout",
          "text": "Setup complete.\n",
          "output_type": "stream"
        }
      ],
      "execution_count": null
    },
    {
      "cell_type": "markdown",
      "source": [
        "# Exercises"
      ],
      "metadata": {
        "id": "9MMcjW6J82F_"
      }
    },
    {
      "cell_type": "markdown",
      "source": [
        "## 1.\n",
        "What is the data type of the `points` column in the dataset?"
      ],
      "metadata": {
        "id": "KgwlcvI882GA"
      }
    },
    {
      "cell_type": "code",
      "source": [
        "# Your code here\n",
        "dtype = reviews.points.dtype\n",
        "\n",
        "# Check your answer\n",
        "q1.check()"
      ],
      "metadata": {
        "trusted": true,
        "execution": {
          "iopub.status.busy": "2024-12-17T04:39:49.50838Z",
          "iopub.execute_input": "2024-12-17T04:39:49.508821Z",
          "iopub.status.idle": "2024-12-17T04:39:49.517565Z",
          "shell.execute_reply.started": "2024-12-17T04:39:49.508784Z",
          "shell.execute_reply": "2024-12-17T04:39:49.51645Z"
        },
        "id": "wJpMhqG082GA",
        "outputId": "2ba3d1c0-1cd8-4962-8763-ffbf44df4816"
      },
      "outputs": [
        {
          "output_type": "display_data",
          "data": {
            "text/plain": "<IPython.core.display.Javascript object>",
            "application/javascript": "parent.postMessage({\"jupyterEvent\": \"custom.exercise_interaction\", \"data\": {\"outcomeType\": 1, \"valueTowardsCompletion\": 0.25, \"interactionType\": 1, \"questionType\": 1, \"questionId\": \"1_PointsDtype\", \"learnToolsVersion\": \"0.3.4\", \"failureMessage\": \"\", \"exceptionClass\": \"\", \"trace\": \"\"}}, \"*\")"
          },
          "metadata": {}
        },
        {
          "output_type": "display_data",
          "data": {
            "text/plain": "Correct",
            "text/markdown": "<span style=\"color:#33cc33\">Correct</span>"
          },
          "metadata": {}
        }
      ],
      "execution_count": null
    },
    {
      "cell_type": "markdown",
      "source": [
        "## 2.\n",
        "Create a Series from entries in the `points` column, but convert the entries to strings. Hint: strings are `str` in native Python."
      ],
      "metadata": {
        "id": "bDP1Illz82GB"
      }
    },
    {
      "cell_type": "code",
      "source": [
        "point_strings = reviews.points.astype(str)\n",
        "\n",
        "# Check your answer\n",
        "q2.check()"
      ],
      "metadata": {
        "trusted": true,
        "execution": {
          "iopub.status.busy": "2024-12-17T04:41:02.367187Z",
          "iopub.execute_input": "2024-12-17T04:41:02.367587Z",
          "iopub.status.idle": "2024-12-17T04:41:02.411069Z",
          "shell.execute_reply.started": "2024-12-17T04:41:02.367554Z",
          "shell.execute_reply": "2024-12-17T04:41:02.410041Z"
        },
        "id": "0fypsEPo82GC",
        "outputId": "4e8db9af-7088-463b-81e8-3f9c99a83b54"
      },
      "outputs": [
        {
          "output_type": "display_data",
          "data": {
            "text/plain": "<IPython.core.display.Javascript object>",
            "application/javascript": "parent.postMessage({\"jupyterEvent\": \"custom.exercise_interaction\", \"data\": {\"outcomeType\": 1, \"valueTowardsCompletion\": 0.25, \"interactionType\": 1, \"questionType\": 1, \"questionId\": \"2_StrPoints\", \"learnToolsVersion\": \"0.3.4\", \"failureMessage\": \"\", \"exceptionClass\": \"\", \"trace\": \"\"}}, \"*\")"
          },
          "metadata": {}
        },
        {
          "output_type": "display_data",
          "data": {
            "text/plain": "Correct",
            "text/markdown": "<span style=\"color:#33cc33\">Correct</span>"
          },
          "metadata": {}
        }
      ],
      "execution_count": null
    },
    {
      "cell_type": "markdown",
      "source": [
        "## 3.\n",
        "Sometimes the price column is null. How many reviews in the dataset are missing a price?"
      ],
      "metadata": {
        "id": "jBzU6ffb82GD"
      }
    },
    {
      "cell_type": "code",
      "source": [
        "n_missing_prices = pd.isnull(reviews.price).sum()\n",
        "\n",
        "# Check your answer\n",
        "q3.check()"
      ],
      "metadata": {
        "trusted": true,
        "execution": {
          "iopub.status.busy": "2024-12-17T04:44:49.927222Z",
          "iopub.execute_input": "2024-12-17T04:44:49.927629Z",
          "iopub.status.idle": "2024-12-17T04:44:49.938054Z",
          "shell.execute_reply.started": "2024-12-17T04:44:49.927592Z",
          "shell.execute_reply": "2024-12-17T04:44:49.936913Z"
        },
        "id": "JkOw1CVH82GD",
        "outputId": "55b972e5-aa86-4c03-c627-83b2caa52473"
      },
      "outputs": [
        {
          "output_type": "display_data",
          "data": {
            "text/plain": "<IPython.core.display.Javascript object>",
            "application/javascript": "parent.postMessage({\"jupyterEvent\": \"custom.exercise_interaction\", \"data\": {\"outcomeType\": 1, \"valueTowardsCompletion\": 0.25, \"interactionType\": 1, \"questionType\": 1, \"questionId\": \"3_CountMissingPrices\", \"learnToolsVersion\": \"0.3.4\", \"failureMessage\": \"\", \"exceptionClass\": \"\", \"trace\": \"\"}}, \"*\")"
          },
          "metadata": {}
        },
        {
          "output_type": "display_data",
          "data": {
            "text/plain": "Correct",
            "text/markdown": "<span style=\"color:#33cc33\">Correct</span>"
          },
          "metadata": {}
        }
      ],
      "execution_count": null
    },
    {
      "cell_type": "markdown",
      "source": [
        "## 4.\n",
        "What are the most common wine-producing regions? Create a Series counting the number of times each value occurs in the `region_1` field. This field is often missing data, so replace missing values with `Unknown`. Sort in descending order.  Your output should look something like this:\n",
        "\n",
        "```\n",
        "Unknown                    21247\n",
        "Napa Valley                 4480\n",
        "                           ...  \n",
        "Bardolino Superiore            1\n",
        "Primitivo del Tarantino        1\n",
        "Name: region_1, Length: 1230, dtype: int64\n",
        "```"
      ],
      "metadata": {
        "id": "p09JEqj882GE"
      }
    },
    {
      "cell_type": "code",
      "source": [
        "reviews_per_region = reviews.region_1.fillna(\"Unknown\").value_counts().sort_values(ascending=False)\n",
        "\n",
        "# Check your answer\n",
        "q4.check()"
      ],
      "metadata": {
        "trusted": true,
        "execution": {
          "iopub.status.busy": "2024-12-17T04:47:50.500261Z",
          "iopub.execute_input": "2024-12-17T04:47:50.50066Z",
          "iopub.status.idle": "2024-12-17T04:47:50.548561Z",
          "shell.execute_reply.started": "2024-12-17T04:47:50.500626Z",
          "shell.execute_reply": "2024-12-17T04:47:50.547436Z"
        },
        "id": "cV6wNfkw82GF",
        "outputId": "d30961fd-7a72-4754-aa85-dd2a60bdca9c"
      },
      "outputs": [
        {
          "output_type": "display_data",
          "data": {
            "text/plain": "<IPython.core.display.Javascript object>",
            "application/javascript": "parent.postMessage({\"jupyterEvent\": \"custom.exercise_interaction\", \"data\": {\"outcomeType\": 1, \"valueTowardsCompletion\": 0.25, \"interactionType\": 1, \"questionType\": 2, \"questionId\": \"4_ReviewsPerRegion\", \"learnToolsVersion\": \"0.3.4\", \"failureMessage\": \"\", \"exceptionClass\": \"\", \"trace\": \"\"}}, \"*\")"
          },
          "metadata": {}
        },
        {
          "output_type": "display_data",
          "data": {
            "text/plain": "Correct",
            "text/markdown": "<span style=\"color:#33cc33\">Correct</span>"
          },
          "metadata": {}
        }
      ],
      "execution_count": null
    },
    {
      "cell_type": "markdown",
      "source": [
        "# Keep going\n",
        "\n",
        "Move on to **[renaming and combining](https://www.kaggle.com/residentmario/renaming-and-combining)**."
      ],
      "metadata": {
        "id": "mWx1hOfe82GG"
      }
    },
    {
      "cell_type": "markdown",
      "source": [
        "---\n",
        "\n",
        "\n",
        "\n",
        "\n",
        "*Have questions or comments? Visit the [course discussion forum](https://www.kaggle.com/learn/pandas/discussion) to chat with other learners.*"
      ],
      "metadata": {
        "id": "9WwsN3FR82GG"
      }
    }
  ]
}