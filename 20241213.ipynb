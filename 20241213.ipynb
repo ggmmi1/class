{
  "nbformat": 4,
  "nbformat_minor": 0,
  "metadata": {
    "colab": {
      "provenance": [],
      "authorship_tag": "ABX9TyOXeYH4YV1SBLMq0TXQjLb8",
      "include_colab_link": true
    },
    "kernelspec": {
      "name": "python3",
      "display_name": "Python 3"
    },
    "language_info": {
      "name": "python"
    }
  },
  "cells": [
    {
      "cell_type": "markdown",
      "metadata": {
        "id": "view-in-github",
        "colab_type": "text"
      },
      "source": [
        "<a href=\"https://colab.research.google.com/github/ggmmi1/class/blob/main/20241213.ipynb\" target=\"_parent\"><img src=\"https://colab.research.google.com/assets/colab-badge.svg\" alt=\"Open In Colab\"/></a>"
      ]
    },
    {
      "cell_type": "code",
      "source": [
        "#Numpy\n",
        "import numpy as np\n",
        "x = np.array([3,1,2])\n",
        "print(x)\n",
        "print(type(x))\n",
        "print(type([3,1,2]))"
      ],
      "metadata": {
        "id": "BSRacCpsQYZj"
      },
      "execution_count": null,
      "outputs": []
    },
    {
      "cell_type": "code",
      "source": [
        "#실습\n",
        "c = [[1],[1,2]]\n",
        "d = np.array(([1,1],[1,2]))\n",
        "\n",
        "for x,y in d:\n",
        "  print(x,y)"
      ],
      "metadata": {
        "id": "dtT_IP0vQWEM"
      },
      "execution_count": null,
      "outputs": []
    },
    {
      "cell_type": "code",
      "source": [
        "#넘파이의 산술연산\n",
        "import numpy as np\n",
        "\n",
        "x = np.array([1.0, 2.0, 3.0])\n",
        "y = np.array([2.0, 4.0, 6.0])\n",
        "\n",
        "print(x+y)\n",
        "print(x-y)\n",
        "print(x*y)\n",
        "print(x/y)"
      ],
      "metadata": {
        "id": "LLZ9crNoQNkN"
      },
      "execution_count": null,
      "outputs": []
    },
    {
      "cell_type": "code",
      "execution_count": null,
      "metadata": {
        "colab": {
          "base_uri": "https://localhost:8080/"
        },
        "id": "6AHQTA5oLGk-",
        "outputId": "e2b2a380-eaee-41b7-eec2-9e2e6ce89447"
      },
      "outputs": [
        {
          "output_type": "stream",
          "name": "stdout",
          "text": [
            "2\n",
            "(3, 2)\n",
            "3\n",
            "(3, 2, 1)\n",
            "3\n",
            "(3, 2, 2)\n",
            "4\n",
            "(3, 2, 2, 1)\n"
          ]
        }
      ],
      "source": [
        "import numpy as np\n",
        "a = np.array([[1,2],[3,4],[5,6]])\n",
        "\n",
        "print(a.ndim)\n",
        "print(a.shape)\n",
        "\n",
        "a = np.array([[[1],[2]],[[3],[4]],[[5],[6]]])\n",
        "\n",
        "print(a.ndim)\n",
        "print(a.shape)\n",
        "\n",
        "a = np.array([[[1,2],[2,2]],[[3,2],[4,2]],[[5,2],[6,2]]])\n",
        "\n",
        "print(a.ndim)\n",
        "print(a.shape) #큰상자 3개 안에, 작은상자 2개 있고, 그 안에 원소 2개가 있으니까 (3,2,2)\n",
        "\n",
        "a = np.array([[[[1],[2]],[[2],[2]]],[[[3],[2]],[[4],[2]]],[[[5],[2]],[[6],[2]]]])\n",
        "\n",
        "print(a.ndim)\n",
        "print(a.shape)"
      ]
    },
    {
      "cell_type": "code",
      "source": [
        "np.dot(4,2)\n",
        "\n",
        "ndar1 = np.array([3,2])\n",
        "ndar2 = np.array([4,6])\n",
        "np.dot(ndar1, ndar2)"
      ],
      "metadata": {
        "id": "eyzNeTYwMgPb",
        "colab": {
          "base_uri": "https://localhost:8080/"
        },
        "outputId": "afa0d3a1-5007-4574-c13e-eafa62a22c69"
      },
      "execution_count": 9,
      "outputs": [
        {
          "output_type": "execute_result",
          "data": {
            "text/plain": [
              "24"
            ]
          },
          "metadata": {},
          "execution_count": 9
        }
      ]
    },
    {
      "cell_type": "code",
      "source": [
        "ndar1 = np.array([[1,2],[3,4]])\n",
        "ndar2 = np.array([[1,2],[3,4]])\n",
        "np.dot(ndar1, ndar2)"
      ],
      "metadata": {
        "colab": {
          "base_uri": "https://localhost:8080/"
        },
        "id": "vUxBmprVODNu",
        "outputId": "4ba4d046-9600-4ee5-b1d4-fbfc413e799c"
      },
      "execution_count": 11,
      "outputs": [
        {
          "output_type": "execute_result",
          "data": {
            "text/plain": [
              "array([[ 7, 10],\n",
              "       [15, 22]])"
            ]
          },
          "metadata": {},
          "execution_count": 11
        }
      ]
    },
    {
      "cell_type": "code",
      "source": [
        "#flatten\n",
        "ndar2 = np.array([[1,2],[3,4]])\n",
        "ndar2.flatten() #평탄화 작업 N차원 배열을 1차원 배열로 변환\n",
        "\n",
        "#flatten 2\n",
        "ndar2 = np.array([[[1],[2]],[[3],[4]]])\n",
        "print(ndar2.shape)\n",
        "print(ndar2.ndim)\n",
        "a = ndar2.flatten()\n",
        "print(a.ndim)\n",
        "print(ndar2)"
      ],
      "metadata": {
        "colab": {
          "base_uri": "https://localhost:8080/"
        },
        "id": "LdEL9KaqPnZ8",
        "outputId": "ea92a0a5-6f6b-468e-8cfa-1c4dc0fd2229"
      },
      "execution_count": 16,
      "outputs": [
        {
          "output_type": "stream",
          "name": "stdout",
          "text": [
            "(2, 2, 1)\n",
            "3\n",
            "1\n",
            "[[[1]\n",
            "  [2]]\n",
            "\n",
            " [[3]\n",
            "  [4]]]\n"
          ]
        }
      ]
    },
    {
      "cell_type": "code",
      "source": [
        "#.reshape():배열의 차원을 변경\n",
        "ndarr = np.array([[1,2],[2,3],[3,4]])\n",
        "ndarr.reshape(2,3)\n"
      ],
      "metadata": {
        "colab": {
          "base_uri": "https://localhost:8080/"
        },
        "id": "P4E4-CRWRvvh",
        "outputId": "173f85a8-737c-4797-d7e5-76f2e3b1ab6a"
      },
      "execution_count": 21,
      "outputs": [
        {
          "output_type": "execute_result",
          "data": {
            "text/plain": [
              "array([[1, 2, 2],\n",
              "       [3, 3, 4]])"
            ]
          },
          "metadata": {},
          "execution_count": 21
        }
      ]
    },
    {
      "cell_type": "code",
      "source": [
        "ndarr.reshape(6,1)"
      ],
      "metadata": {
        "colab": {
          "base_uri": "https://localhost:8080/"
        },
        "id": "_PoUY3hUSee4",
        "outputId": "aec2e359-3688-43d1-f037-40b6001ba28f"
      },
      "execution_count": 23,
      "outputs": [
        {
          "output_type": "execute_result",
          "data": {
            "text/plain": [
              "array([[1],\n",
              "       [2],\n",
              "       [2],\n",
              "       [3],\n",
              "       [3],\n",
              "       [4]])"
            ]
          },
          "metadata": {},
          "execution_count": 23
        }
      ]
    },
    {
      "cell_type": "code",
      "source": [
        "ndarr.reshape(1,6)"
      ],
      "metadata": {
        "colab": {
          "base_uri": "https://localhost:8080/"
        },
        "id": "kp9tw7jjSikS",
        "outputId": "55c983ce-2437-481f-efa8-48953d45a4f3"
      },
      "execution_count": 25,
      "outputs": [
        {
          "output_type": "execute_result",
          "data": {
            "text/plain": [
              "array([[1, 2, 2, 3, 3, 4]])"
            ]
          },
          "metadata": {},
          "execution_count": 25
        }
      ]
    },
    {
      "cell_type": "code",
      "source": [
        "#random\n",
        "np.random.randint(5, size=(2,4))\n"
      ],
      "metadata": {
        "colab": {
          "base_uri": "https://localhost:8080/"
        },
        "id": "lsyKcxSuTmwp",
        "outputId": "1d27b938-99c4-4f8f-86fb-c4eb760a2ffb"
      },
      "execution_count": 27,
      "outputs": [
        {
          "output_type": "execute_result",
          "data": {
            "text/plain": [
              "array([[2, 4, 0, 1],\n",
              "       [2, 2, 1, 0]])"
            ]
          },
          "metadata": {},
          "execution_count": 27
        }
      ]
    },
    {
      "cell_type": "code",
      "source": [
        "np.random.rand(2,3)"
      ],
      "metadata": {
        "colab": {
          "base_uri": "https://localhost:8080/"
        },
        "id": "uxBjrem8T8N4",
        "outputId": "c04a5fb1-79a4-4ca2-dac0-a4596da9e847"
      },
      "execution_count": 32,
      "outputs": [
        {
          "output_type": "execute_result",
          "data": {
            "text/plain": [
              "array([[0.86621283, 0.79016242, 0.88604465],\n",
              "       [0.84831499, 0.00994466, 0.43295942]])"
            ]
          },
          "metadata": {},
          "execution_count": 32
        }
      ]
    },
    {
      "cell_type": "code",
      "source": [
        "rng = np.random.default_rng()\n",
        "rng.random()"
      ],
      "metadata": {
        "colab": {
          "base_uri": "https://localhost:8080/"
        },
        "id": "0sBtU94JURN_",
        "outputId": "9a47ddb6-b28f-48b8-983f-a7722b1b3e34"
      },
      "execution_count": 34,
      "outputs": [
        {
          "output_type": "execute_result",
          "data": {
            "text/plain": [
              "0.015174972691899269"
            ]
          },
          "metadata": {},
          "execution_count": 34
        }
      ]
    },
    {
      "cell_type": "code",
      "source": [
        "rng.integers(0, 10, (2,4))"
      ],
      "metadata": {
        "colab": {
          "base_uri": "https://localhost:8080/"
        },
        "id": "EV2t0zvPUcSL",
        "outputId": "2c3094cb-fa6c-4908-f926-994bd0428793"
      },
      "execution_count": 37,
      "outputs": [
        {
          "output_type": "execute_result",
          "data": {
            "text/plain": [
              "array([[3, 2, 3, 7],\n",
              "       [9, 0, 4, 6]])"
            ]
          },
          "metadata": {},
          "execution_count": 37
        }
      ]
    },
    {
      "cell_type": "code",
      "source": [
        "ndarr = np.array([[6,3],[5,2],[4,1]])\n",
        "ndarr > 4"
      ],
      "metadata": {
        "colab": {
          "base_uri": "https://localhost:8080/"
        },
        "id": "XhLh2PHuVMN3",
        "outputId": "55687ec0-09d8-488c-a079-dd9a3c1de023"
      },
      "execution_count": 39,
      "outputs": [
        {
          "output_type": "execute_result",
          "data": {
            "text/plain": [
              "array([[ True, False],\n",
              "       [ True, False],\n",
              "       [False, False]])"
            ]
          },
          "metadata": {},
          "execution_count": 39
        }
      ]
    },
    {
      "cell_type": "code",
      "source": [
        "ndarr = np.array([[6,3],[5,2],[4,1]])\n",
        "ndarr[ndarr>=4]"
      ],
      "metadata": {
        "colab": {
          "base_uri": "https://localhost:8080/"
        },
        "id": "hR1d3nZIVczp",
        "outputId": "3adf5440-6f50-4987-9018-532fb2fb3da8"
      },
      "execution_count": 43,
      "outputs": [
        {
          "output_type": "execute_result",
          "data": {
            "text/plain": [
              "array([6, 5, 4])"
            ]
          },
          "metadata": {},
          "execution_count": 43
        }
      ]
    }
  ]
}